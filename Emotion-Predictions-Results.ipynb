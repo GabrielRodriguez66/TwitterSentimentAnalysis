{
 "cells": [
  {
   "cell_type": "markdown",
   "metadata": {},
   "source": [
    "# CIIC5995 Final Project: Twitter Sentiment/Emotion Analysis"
   ]
  },
  {
   "cell_type": "code",
   "execution_count": 21,
   "metadata": {},
   "outputs": [],
   "source": [
    "import pandas as pd\n",
    "import matplotlib.pyplot as plt"
   ]
  },
  {
   "cell_type": "code",
   "execution_count": 48,
   "metadata": {},
   "outputs": [],
   "source": [
    "def percentage(x,y):\n",
    "    return \"{:.2f}\".format(100 * len(x)/len(y))"
   ]
  },
  {
   "cell_type": "markdown",
   "metadata": {},
   "source": [
    "### *Reading Tweets csv*"
   ]
  },
  {
   "cell_type": "code",
   "execution_count": 22,
   "metadata": {},
   "outputs": [
    {
     "data": {
      "text/html": [
       "<div>\n",
       "<style scoped>\n",
       "    .dataframe tbody tr th:only-of-type {\n",
       "        vertical-align: middle;\n",
       "    }\n",
       "\n",
       "    .dataframe tbody tr th {\n",
       "        vertical-align: top;\n",
       "    }\n",
       "\n",
       "    .dataframe thead th {\n",
       "        text-align: right;\n",
       "    }\n",
       "</style>\n",
       "<table border=\"1\" class=\"dataframe\">\n",
       "  <thead>\n",
       "    <tr style=\"text-align: right;\">\n",
       "      <th></th>\n",
       "      <th>Username</th>\n",
       "      <th>Tweet</th>\n",
       "      <th>Sentiment_Predicted_Value</th>\n",
       "      <th>Emotion_Predicted_Value</th>\n",
       "      <th>Emotion_label</th>\n",
       "    </tr>\n",
       "  </thead>\n",
       "  <tbody>\n",
       "    <tr>\n",
       "      <th>0</th>\n",
       "      <td>1stGV</td>\n",
       "      <td>Our memory of #notredame #paris #nycitybride #...</td>\n",
       "      <td>neutral</td>\n",
       "      <td>Sad</td>\n",
       "      <td>Sad</td>\n",
       "    </tr>\n",
       "    <tr>\n",
       "      <th>1</th>\n",
       "      <td>cinemasentries</td>\n",
       "      <td>Five Cool Things and #NotreDame https://t.co/3...</td>\n",
       "      <td>positive</td>\n",
       "      <td>Excited</td>\n",
       "      <td>Excited</td>\n",
       "    </tr>\n",
       "    <tr>\n",
       "      <th>2</th>\n",
       "      <td>AdvocatesOfLife</td>\n",
       "      <td>you can do better than this #france!!!!   &amp;gt;...</td>\n",
       "      <td>positive</td>\n",
       "      <td>Sad</td>\n",
       "      <td>Angry</td>\n",
       "    </tr>\n",
       "    <tr>\n",
       "      <th>3</th>\n",
       "      <td>Tzeetch</td>\n",
       "      <td>#Macron is never shy to show his cowardice. RE...</td>\n",
       "      <td>positive</td>\n",
       "      <td>Angry</td>\n",
       "      <td>Angry</td>\n",
       "    </tr>\n",
       "    <tr>\n",
       "      <th>4</th>\n",
       "      <td>scroll_in</td>\n",
       "      <td>The #NotreDame fire has created a new Victor H...</td>\n",
       "      <td>positive</td>\n",
       "      <td>Excited</td>\n",
       "      <td>Excited</td>\n",
       "    </tr>\n",
       "  </tbody>\n",
       "</table>\n",
       "</div>"
      ],
      "text/plain": [
       "          Username                                              Tweet  \\\n",
       "0            1stGV  Our memory of #notredame #paris #nycitybride #...   \n",
       "1   cinemasentries  Five Cool Things and #NotreDame https://t.co/3...   \n",
       "2  AdvocatesOfLife  you can do better than this #france!!!!   &gt;...   \n",
       "3          Tzeetch  #Macron is never shy to show his cowardice. RE...   \n",
       "4        scroll_in  The #NotreDame fire has created a new Victor H...   \n",
       "\n",
       "  Sentiment_Predicted_Value Emotion_Predicted_Value Emotion_label  \n",
       "0                   neutral                     Sad           Sad  \n",
       "1                  positive                 Excited       Excited  \n",
       "2                  positive                     Sad         Angry  \n",
       "3                  positive                   Angry         Angry  \n",
       "4                  positive                 Excited       Excited  "
      ]
     },
     "execution_count": 22,
     "metadata": {},
     "output_type": "execute_result"
    }
   ],
   "source": [
    "df = pd.read_csv(r'C:\\\\Users\\Gabriel\\Desktop\\TwitterSentimentAnalysis\\results\\tweets_clean.csv', encoding='utf-8-sig', engine='python')\n",
    "df = df.drop(columns = ['Unnamed: 0'])  # dropping unused column\n",
    "df.head()"
   ]
  },
  {
   "cell_type": "markdown",
   "metadata": {},
   "source": [
    "### *Separating Happy, Angry, Excited, Sad, Fear and Bored predicted tweets from Data Frame*"
   ]
  },
  {
   "cell_type": "code",
   "execution_count": 32,
   "metadata": {},
   "outputs": [],
   "source": [
    "htweets = df[df['Emotion_Predicted_Value'] == 'Happy']\n",
    "atweets = df[df['Emotion_Predicted_Value'] == 'Angry']\n",
    "etweets = df[df['Emotion_Predicted_Value'] == 'Excited']\n",
    "stweets = df[df['Emotion_Predicted_Value'] == 'Sad']\n",
    "ftweets = df[df['Emotion_Predicted_Value'] == 'Fear']\n",
    "btweets = df[df['Emotion_Predicted_Value'] == 'Bored']"
   ]
  },
  {
   "cell_type": "markdown",
   "metadata": {},
   "source": [
    "### *Calculating percentages of each emotion category*"
   ]
  },
  {
   "cell_type": "code",
   "execution_count": 49,
   "metadata": {},
   "outputs": [
    {
     "name": "stdout",
     "output_type": "stream",
     "text": [
      "Happy tweets percentage: 19.46 %\n",
      "Angry tweets percentage: 23.49 %\n",
      "Excited tweets percentage: 38.93 %\n",
      "Sad tweets percentage: 14.09 %\n",
      "Fear tweets percentage: 3.36 %\n",
      "Bored tweets percentage: 0.67 %\n"
     ]
    }
   ],
   "source": [
    "hp = percentage(htweets,df)\n",
    "print(\"Happy tweets percentage: {} %\".format(hp))\n",
    "\n",
    "ap = percentage(atweets,df)\n",
    "print(\"Angry tweets percentage: {} %\".format(ap))\n",
    "\n",
    "ep = percentage(etweets,df)\n",
    "print(\"Excited tweets percentage: {} %\".format(ep))\n",
    "\n",
    "sp = percentage(stweets,df)\n",
    "print(\"Sad tweets percentage: {} %\".format(sp))\n",
    "\n",
    "fp = percentage(ftweets,df)\n",
    "print(\"Fear tweets percentage: {} %\".format(fp))\n",
    "\n",
    "bp = percentage(btweets,df)\n",
    "print(\"Bored tweets percentage: {} %\".format(bp))\n"
   ]
  },
  {
   "cell_type": "markdown",
   "metadata": {},
   "source": [
    "### *Visualizing percentages with a Pie Chart*"
   ]
  },
  {
   "cell_type": "code",
   "execution_count": 76,
   "metadata": {},
   "outputs": [
    {
     "data": {
      "image/png": "[encoded data removed]",
      "text/plain": [
       "<Figure size 432x288 with 1 Axes>"
      ]
     },
     "metadata": {},
     "output_type": "display_data"
    }
   ],
   "source": [
    "labels = ['Happy ['+ hp +' %]', 'Angry ['+ ap +' %]', 'Excited ['+ ep +' %]',\n",
    "         'Sad ['+ sp +' %]', 'Fear ['+ fp +' %]', 'Bored ['+ bp +' %]']\n",
    "sizes = [hp,ap,ep,sp,fp,bp]\n",
    "colors = ['red','yellow','green','blue', 'magenta', 'black']\n",
    "patches, texts = plt.pie(sizes, colors=colors, startangle=90)\n",
    "plt.legend(patches, labels, loc='best')\n",
    "plt.title(\"Distribution of Emotions Predictions in Tweets\")\n",
    "plt.axis('equal')\n",
    "plt.tight_layout()\n",
    "plt.show()"
   ]
  },
  {
   "cell_type": "markdown",
   "metadata": {},
   "source": [
    "### *Calculating accuracy of predictions*"
   ]
  },
  {
   "cell_type": "code",
   "execution_count": 73,
   "metadata": {},
   "outputs": [
    {
     "name": "stdout",
     "output_type": "stream",
     "text": [
      "Accuracy of predictions: 65.10%\n",
      "Error of predictions: 34.90%\n"
     ]
    }
   ],
   "source": [
    "prediction = df['Emotion_Predicted_Value']\n",
    "label = df['Emotion_label']\n",
    "\n",
    "correct = [i for i in prediction == label if i == True]\n",
    "incorrect = [i for i in prediction == label if i == False]\n",
    "\n",
    "print(\"Accuracy of predictions: \"+ percentage(correct,label)+\"%\")\n",
    "print(\"Error of predictions: \"+  percentage(incorrect,label)+\"%\")"
   ]
  },
  {
   "cell_type": "code",
   "execution_count": null,
   "metadata": {},
   "outputs": [],
   "source": []
  }
 ],
 "metadata": {
  "kernelspec": {
   "display_name": "Python 3",
   "language": "python",
   "name": "python3"
  },
  "language_info": {
   "codemirror_mode": {
    "name": "ipython",
    "version": 3
   },
   "file_extension": ".py",
   "mimetype": "text/x-python",
   "name": "python",
   "nbconvert_exporter": "python",
   "pygments_lexer": "ipython3",
   "version": "3.6.8"
  }
 },
 "nbformat": 4,
 "nbformat_minor": 2
}
